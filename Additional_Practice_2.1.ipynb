{
 "cells": [
  {
   "cell_type": "markdown",
   "metadata": {
    "collapsed": true
   },
   "source": [
    "### 1) The function \"echo_name\" takes 2 parameters: a string value, \"name1\"and an integer value, \"echo_int\". It returns a string that is a concatenation of \"echo_int\" copies of \"name1\". \n",
    "\n",
    "    Your task is to convert this simple function into a lambda function.\n",
    "\n",
    "    Instructions:\n",
    "    Define the lambda function \"echo_name\" using the variables \"name1\" and \"echo_int\". Replicate what the original function definition for \"echo_name ()\" does above.\n",
    "    Call \"echo_name ()\" with the string argument 'acadgild' and the value 5, in that order. Assign the call to result\n",
    "    \n",
    "    Expected Output \n",
    "\n",
    "    acadgildacadgildacadgildacadgildacadgild"
   ]
  },
  {
   "cell_type": "code",
   "execution_count": 1,
   "metadata": {},
   "outputs": [
    {
     "name": "stdout",
     "output_type": "stream",
     "text": [
      "acadgildacadgildacadgildacadgildacadgild\n"
     ]
    }
   ],
   "source": [
    "# Define a lambda function: echo_name\n",
    "\n",
    "echo_name = (lambda x,y:x*y)\n",
    "\n",
    "# Call echo_name with parameters (\"acadgild\",5)\n",
    "result = echo_name (\"acadgild\",5)\n",
    "\n",
    "# Print result\n",
    "print(result)\n"
   ]
  },
  {
   "cell_type": "markdown",
   "metadata": {},
   "source": [
    "### 2)  Convert temperature in Celsius to Fahrenheit using map() and lambda functions\n",
    "\n",
    "\n",
    "        Sample input\n",
    "        Celsius = [49.2, 26.5, 47.3, 47.8]\n",
    "        \n",
    "        Expected Output\n",
    "        [120.56, 79.7, 117.14, 118.03999999999999]"
   ]
  },
  {
   "cell_type": "code",
   "execution_count": 2,
   "metadata": {},
   "outputs": [
    {
     "name": "stdout",
     "output_type": "stream",
     "text": [
      "[120.56, 79.7, 117.14, 118.03999999999999]\n"
     ]
    }
   ],
   "source": [
    "# Initialize list \n",
    "Celsius = [49.2, 26.5, 47.3, 47.8]\n",
    "\n",
    "\n",
    "#use map() and lambda,convert to Fahrenheit \n",
    "#map(function,list)\n",
    "Fahrenheit = list(map(lambda x:x*9/5 + 32,Celsius))\n",
    "\n",
    "#print Fahrenheit \n",
    "print(Fahrenheit)\n"
   ]
  },
  {
   "cell_type": "markdown",
   "metadata": {},
   "source": [
    "### 3) The function filter(function, list) filters out all the elements of a list, for which the function function returns True. The function filter(f,l) needs a function f as its first argument. f re turns a Boolean value, i.e. either True or False. This function will be applied to every element of the list l. Only if f returns True will the element of the list be included in the result list Q. print the letters that are vowels using filter and lambda functions\n",
    " sample_string = \"Welcome to AcadGild\"\n",
    " \n",
    " Expected Output \n",
    " ['e', 'o', 'e', 'o', 'A', 'a', 'i']"
   ]
  },
  {
   "cell_type": "code",
   "execution_count": 2,
   "metadata": {},
   "outputs": [
    {
     "name": "stdout",
     "output_type": "stream",
     "text": [
      "['e', 'o', 'e', 'o', 'A', 'a', 'i']\n"
     ]
    }
   ],
   "source": [
    "sample_string = \"Welcome to AcadGild\"\n",
    "\n",
    "def is_vowel(x):\n",
    "    if('aeiouAEIOU'.find(x)>=0):\n",
    "        return True\n",
    "result = list(filter(is_vowel,sample_string))\n",
    "print(result)"
   ]
  },
  {
   "cell_type": "markdown",
   "metadata": {},
   "source": [
    "### 4) Use generator expression to print out only alphabets from the following string\n",
    "string = \"123@Welc34ometo12@ac#adGild\""
   ]
  },
  {
   "cell_type": "code",
   "execution_count": 3,
   "metadata": {},
   "outputs": [
    {
     "data": {
      "text/plain": [
       "'WelcometoacadGild'"
      ]
     },
     "execution_count": 3,
     "metadata": {},
     "output_type": "execute_result"
    }
   ],
   "source": [
    "string = \"123@Welc34ometo12@ac#adGild\"\n",
    "''.join(x for x in string if x.isalpha())"
   ]
  },
  {
   "cell_type": "markdown",
   "metadata": {
    "collapsed": true
   },
   "source": [
    "### 5) Implement a function longestWord() that takes a list of words and returns the longest one.\n",
    "\n",
    "        Sample Word List\n",
    "        word= [\"January\",\"Feburary\",\"March\",\"April\",\"May\",\"June\",\"July\"]\n",
    "        \n",
    "        Expected Output\n",
    "        ['Feburary']"
   ]
  },
  {
   "cell_type": "code",
   "execution_count": 13,
   "metadata": {},
   "outputs": [
    {
     "name": "stdout",
     "output_type": "stream",
     "text": [
      "['Feburary']\n"
     ]
    }
   ],
   "source": [
    " # Initialize the list\n",
    "word=  [\"January\",\"Feburary\",\"March\",\"April\",\"May\",\"June\",\"July\"]\n",
    "\n",
    "#define function named longestWord with one parameter (arg_word)\n",
    "def longestWord(arg_word):\n",
    "    \n",
    "    #use len(max()) to apply the logic\n",
    "    max_len = len(max(arg_word,key=len))\n",
    "    \n",
    "    # iterate over the list arg_word and check which word has length = max_len and print\n",
    "    return [x for x in arg_word if len(x) == max_len]\n",
    "\n",
    "#function call : longestWord and pass the list \"word\" as the parameter\n",
    "print(longestWord(word))"
   ]
  },
  {
   "cell_type": "code",
   "execution_count": null,
   "metadata": {},
   "outputs": [],
   "source": []
  }
 ],
 "metadata": {
  "kernelspec": {
   "display_name": "Python 3",
   "language": "python",
   "name": "python3"
  },
  "language_info": {
   "codemirror_mode": {
    "name": "ipython",
    "version": 3
   },
   "file_extension": ".py",
   "mimetype": "text/x-python",
   "name": "python",
   "nbconvert_exporter": "python",
   "pygments_lexer": "ipython3",
   "version": "3.6.5"
  }
 },
 "nbformat": 4,
 "nbformat_minor": 2
}
